{
 "cells": [
  {
   "cell_type": "code",
   "execution_count": 37,
   "metadata": {
    "scrolled": true
   },
   "outputs": [],
   "source": [
    "import pandas as pd\n",
    "import matplotlib.pyplot as plt\n",
    "import numpy as np\n",
    "import math as mt\n",
    "\n",
    "tabel = pd.read_csv('/home/nstrtm/Documents/bezdekiris.csv', header=None, nrows=100)\n",
    "tabel[4] = tabel[4].str.replace('Iris-setosa','1')\n",
    "tabel[4] = tabel[4].str.replace('Iris-versicolor','0')\n",
    "\n",
    "tabel = tabel.astype('float64')"
   ]
  },
  {
   "cell_type": "code",
   "execution_count": 38,
   "metadata": {},
   "outputs": [],
   "source": [
    "#Inisiasi\n",
    "alpha = 0.1\n",
    "\n",
    "teta = np.array([0.1,0.15,0.2,0.3])\n",
    "\n",
    "pteta= pd.DataFrame(data=teta)\n",
    "\n",
    "global bias\n",
    "bias = 0.4\n",
    "\n",
    "d_bias = 0\n",
    "\n",
    "h = 0\n",
    "\n",
    "array_dteta = np.empty(4)\n",
    "\n",
    "array_x = np.array(tabel.iloc[0,:4])\n",
    "\n",
    "fakta = tabel.iloc[0,4]\n",
    "\n",
    "jumlah_error_semua = np.zeros(shape=(60,1))"
   ]
  },
  {
   "cell_type": "code",
   "execution_count": 39,
   "metadata": {},
   "outputs": [],
   "source": [
    "#by def\n",
    "def h(x,teta,b,a):\n",
    "    return np.dot(x.iloc[a,:4],np.transpose(teta)+bias)\n",
    "\n",
    "def sigmoid(h):\n",
    "    return 1/(1+mt.exp(h))\n",
    "\n",
    "def error(sigmoid,a):\n",
    "    return (sigmoid-tabel.iloc[a,4])**2\n",
    "\n",
    "def prediksi(sigmoid):\n",
    "    if sigmoid <= 0.5:\n",
    "        prediksi = 1\n",
    "        return prediksi\n",
    "    else:\n",
    "        prediksi = 0\n",
    "        return prediksi\n",
    "    \n",
    "def d_teta(sigmoid,fakta,array_x,i):\n",
    "    return 2*(sigmoid-fakta)*(1-sigmoid)*sigmoid*array_x[i]\n",
    "    \n",
    "def d_bias(sigmoid,fakta):\n",
    "    return 2*(sigmoid-fakta)*(1-sigmoid)*sigmoid\n",
    "\n",
    "def teta_baru(teta,alpha,d_teta,i):\n",
    "    return teta[i]-(alpha*d_teta[i])\n",
    "\n",
    "def bias_baru(bias,alpha,d_bias):\n",
    "    return bias-(alpha*d_bias)\n",
    "\n",
    "def tukar_bias(bias,alpha,d_bias_rumus):\n",
    "    bias= bias_baru(bias,alpha,d_bias_rumus)\n",
    "    \n",
    "def jumlah_error_epoch(error):\n",
    "    jumlah = jumlah + error\n",
    "    \n",
    "def restart_jumlah(i):\n",
    "    jumlah_error_semua[i]=jumlah.copy\n",
    "    "
   ]
  },
  {
   "cell_type": "code",
   "execution_count": 61,
   "metadata": {
    "scrolled": false
   },
   "outputs": [],
   "source": [
    "def epoch() :\n",
    "    global jumlah\n",
    "    jumlah=0\n",
    "    diulang = 60\n",
    "    for m in range(diulang):\n",
    "        \n",
    "        for i in tabel:\n",
    "            h_rumus = h(tabel,teta,bias,i).astype('float64')\n",
    "            sigmoid_rumus = sigmoid(h_rumus)\n",
    "            error_rumus= error(sigmoid_rumus,i)\n",
    "            jumlah += error_rumus\n",
    "            prediksi_rumus = prediksi(sigmoid_rumus)\n",
    "            for j in range(len(array_x)):\n",
    "                array_dteta[j] = d_teta(sigmoid_rumus,fakta,array_x,j)\n",
    "            d_bias_rumus = d_bias(sigmoid_rumus,fakta)\n",
    "            for j in range(len(teta)):\n",
    "                teta[j]= teta_baru(teta,alpha,array_dteta,j)\n",
    "            tukar_bias(bias,alpha,d_bias_rumus)\n",
    "        jumlah_error_semua[m]=jumlah\n",
    "        jumlah=0\n",
    "        print(jumlah_error_semua[m])\n",
    "    plt.plot(jumlah_error_semua)\n",
    "    plt.ylabel('error')\n",
    "    plt.xlabel('epoch')\n",
    "    plt.show()"
   ]
  },
  {
   "cell_type": "code",
   "execution_count": 62,
   "metadata": {},
   "outputs": [
    {
     "name": "stdout",
     "output_type": "stream",
     "text": [
      "[4.99951431]\n",
      "[4.9995152]\n",
      "[4.99951608]\n",
      "[4.99951696]\n",
      "[4.99951784]\n",
      "[4.99951872]\n",
      "[4.99951959]\n",
      "[4.99952046]\n",
      "[4.99952132]\n",
      "[4.99952218]\n",
      "[4.99952304]\n",
      "[4.9995239]\n",
      "[4.99952475]\n",
      "[4.9995256]\n",
      "[4.99952645]\n",
      "[4.99952729]\n",
      "[4.99952813]\n",
      "[4.99952897]\n",
      "[4.99952981]\n",
      "[4.99953064]\n",
      "[4.99953147]\n",
      "[4.99953229]\n",
      "[4.99953312]\n",
      "[4.99953394]\n",
      "[4.99953475]\n",
      "[4.99953557]\n",
      "[4.99953638]\n",
      "[4.99953719]\n",
      "[4.999538]\n",
      "[4.9995388]\n",
      "[4.9995396]\n",
      "[4.9995404]\n",
      "[4.99954119]\n",
      "[4.99954198]\n",
      "[4.99954277]\n",
      "[4.99954356]\n",
      "[4.99954434]\n",
      "[4.99954513]\n",
      "[4.9995459]\n",
      "[4.99954668]\n",
      "[4.99954745]\n",
      "[4.99954822]\n",
      "[4.99954899]\n",
      "[4.99954976]\n",
      "[4.99955052]\n",
      "[4.99955128]\n",
      "[4.99955204]\n",
      "[4.99955279]\n",
      "[4.99955355]\n",
      "[4.9995543]\n",
      "[4.99955504]\n",
      "[4.99955579]\n",
      "[4.99955653]\n",
      "[4.99955727]\n",
      "[4.99955801]\n",
      "[4.99955875]\n",
      "[4.99955948]\n",
      "[4.99956021]\n",
      "[4.99956094]\n",
      "[4.99956166]\n"
     ]
    },
    {
     "data": {
      "image/png": "[encoded data removed]",
      "text/plain": [
       "<matplotlib.figure.Figure at 0x7f5eb88c1da0>"
      ]
     },
     "metadata": {},
     "output_type": "display_data"
    }
   ],
   "source": [
    "epoch()\n",
    "        "
   ]
  },
  {
   "cell_type": "code",
   "execution_count": 22,
   "metadata": {},
   "outputs": [
    {
     "data": {
      "text/plain": [
       "numpy.float64"
      ]
     },
     "execution_count": 22,
     "metadata": {},
     "output_type": "execute_result"
    }
   ],
   "source": [
    "type(jumlah)"
   ]
  }
 ],
 "metadata": {
  "kernelspec": {
   "display_name": "Python 3",
   "language": "python",
   "name": "python3"
  },
  "language_info": {
   "codemirror_mode": {
    "name": "ipython",
    "version": 3
   },
   "file_extension": ".py",
   "mimetype": "text/x-python",
   "name": "python",
   "nbconvert_exporter": "python",
   "pygments_lexer": "ipython3",
   "version": "3.5.2"
  }
 },
 "nbformat": 4,
 "nbformat_minor": 1
}
