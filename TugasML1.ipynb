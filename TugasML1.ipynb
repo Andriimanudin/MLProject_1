{
 "cells": [
  {
   "cell_type": "code",
   "execution_count": 2,
   "metadata": {},
   "outputs": [],
   "source": [
    "import pandas as pd\n",
    "import matplotlib.pyplot as plt\n",
    "import numpy as np\n",
    "import math as mt\n",
    "\n",
    "tabel = pd.read_csv('/home/nstrtm/Documents/bezdekiris.csv', header=None, nrows=100)\n",
    "tabel[4] = tabel[4].str.replace('Iris-setosa','1')\n",
    "tabel[4] = tabel[4].str.replace('Iris-versicolor','0')\n",
    "\n",
    "tabel = tabel.astype('float64')"
   ]
  },
  {
   "cell_type": "code",
   "execution_count": 3,
   "metadata": {
    "collapsed": true
   },
   "outputs": [],
   "source": [
    "#Inisiasi\n",
    "alpha = 0.1\n",
    "\n",
    "teta = np.array([0.1,0.15,0.2,0.3])\n",
    "\n",
    "pteta= pd.DataFrame(data=teta)\n",
    "\n",
    "global bias\n",
    "bias = 0.4\n",
    "\n",
    "d_bias = 0\n",
    "\n",
    "h = 0\n",
    "\n",
    "array_dteta = np.empty(4)\n",
    "\n",
    "array_x = np.array(tabel.iloc[0,:4])\n",
    "\n",
    "fakta = tabel.iloc[0,4]\n",
    "\n",
    "jumlah_error_semua = np.zeros(shape=(60,1))"
   ]
  },
  {
   "cell_type": "code",
   "execution_count": 4,
   "metadata": {
    "collapsed": true
   },
   "outputs": [],
   "source": [
    "#by def\n",
    "def h(x,teta,b,a):\n",
    "    return np.dot(x.iloc[a,:4],np.transpose(teta)+bias)\n",
    "\n",
    "def sigmoid(h):\n",
    "    return 1/(1+mt.exp(h))\n",
    "\n",
    "def error(sigmoid,a):\n",
    "    return (sigmoid-tabel.iloc[a,4])**2\n",
    "\n",
    "def prediksi(sigmoid):\n",
    "    if sigmoid <= 0.5:\n",
    "        prediksi = 1\n",
    "        return prediksi\n",
    "    else:\n",
    "        prediksi = 0\n",
    "        return prediksi\n",
    "    \n",
    "def d_teta(sigmoid,fakta,array_x,i):\n",
    "    return 2*(sigmoid-fakta)*(1-sigmoid)*sigmoid*array_x[i]\n",
    "    \n",
    "def d_bias(sigmoid,fakta):\n",
    "    return 2*(sigmoid-fakta)*(1-sigmoid)*sigmoid\n",
    "\n",
    "def teta_baru(teta,alpha,d_teta,i):\n",
    "    return teta[i]-(alpha*d_teta[i])\n",
    "\n",
    "def bias_baru(bias,alpha,d_bias):\n",
    "    return bias-(alpha*d_bias)\n",
    "\n",
    "def tukar_bias(bias,alpha,d_bias_rumus):\n",
    "    bias= bias_baru(bias,alpha,d_bias_rumus)\n",
    "    \n",
    "def jumlah_error_epoch(error):\n",
    "    jumlah = jumlah + error\n",
    "    \n",
    "def restart_jumlah(i):\n",
    "    jumlah_error_semua[i]=jumlah.copy\n",
    "    "
   ]
  },
  {
   "cell_type": "code",
   "execution_count": 9,
   "metadata": {},
   "outputs": [],
   "source": [
    "def epoch() :\n",
    "    global jumlah\n",
    "    jumlah=0\n",
    "    diulang = 60\n",
    "    for m in range(diulang):\n",
    "        \n",
    "        for i in tabel:\n",
    "            h_rumus = h(tabel,teta,bias,i).astype('float64')\n",
    "            sigmoid_rumus = sigmoid(h_rumus)\n",
    "            error_rumus= error(sigmoid_rumus,i)\n",
    "            jumlah += error_rumus\n",
    "            prediksi_rumus = prediksi(sigmoid_rumus)\n",
    "            for j in range(len(array_x)):\n",
    "                array_dteta[j] = d_teta(sigmoid_rumus,fakta,array_x,j)\n",
    "            d_bias_rumus = d_bias(sigmoid_rumus,fakta)\n",
    "            for j in range(len(teta)):\n",
    "                teta[j]= teta_baru(teta,alpha,array_dteta,j)\n",
    "            tukar_bias(bias,alpha,d_bias_rumus)\n",
    "        jumlah_error_semua[m]=jumlah\n",
    "        jumlah=0\n",
    "        print(jumlah_error_semua[m])\n",
    "    plt.plot(jumlah_error_semua)\n",
    "    plt.ylabel('error')\n",
    "    plt.xlabel('epoch')\n",
    "    plt.show()"
   ]
  },
  {
   "cell_type": "code",
   "execution_count": 7,
   "metadata": {},
   "outputs": [
    {
     "name": "stdout",
     "output_type": "stream",
     "text": [
      "[4.99595231]\n[4.99601335]\n[4.99607258]\n[4.99613007]\n[4.9961859]\n[4.99624014]\n[4.99629285]\n[4.99634411]\n[4.99639397]\n[4.99644249]\n[4.99648972]\n[4.9965357]\n[4.9965805]\n[4.99662416]\n[4.99666671]\n[4.9967082]\n[4.99674867]\n[4.99678816]\n[4.99682669]\n[4.99686432]\n[4.99690106]\n[4.99693695]\n[4.99697201]\n[4.99700629]\n[4.99703979]\n[4.99707255]\n[4.9971046]\n[4.99713595]\n[4.99716663]\n[4.99719665]\n[4.99722605]\n[4.99725483]\n[4.99728303]\n[4.99731065]\n[4.99733771]\n[4.99736424]\n[4.99739024]\n[4.99741573]\n[4.99744073]\n[4.99746525]\n[4.9974893]\n[4.9975129]\n[4.99753606]\n[4.9975588]\n[4.99758111]\n[4.99760303]\n[4.99762455]\n[4.99764568]\n[4.99766644]\n[4.99768684]\n[4.99770689]\n[4.99772659]\n[4.99774595]\n[4.99776499]\n[4.99778371]\n[4.99780212]\n[4.99782022]\n[4.99783803]\n[4.99785554]\n[4.99787278]\n"
     ]
    },
    {
     "data": {
      "image/png": "[encoded data removed]",
      "text/plain": [
       "<matplotlib.figure.Figure at 0x7f87e9d42e48>"
      ]
     },
     "metadata": {},
     "output_type": "display_data"
    }
   ],
   "source": [
    "epoch()"
   ]
  },
  {
   "cell_type": "code",
   "execution_count": 8,
   "metadata": {},
   "outputs": [],
   "source": [
    "type(jumlah)\n",
    "\n"
   ]
  },
  {
   "cell_type": "code",
   "execution_count": null,
   "metadata": {},
   "outputs": [],
   "source": []
  }
 ],
 "metadata": {
  "kernelspec": {
   "display_name": "Python 3",
   "language": "python",
   "name": "python3"
  },
  "language_info": {
   "codemirror_mode": {
    "name": "ipython",
    "version": 3
   },
   "file_extension": ".py",
   "mimetype": "text/x-python",
   "name": "python",
   "nbconvert_exporter": "python",
   "pygments_lexer": "ipython3",
   "version": "3.5.2"
  }
 },
 "nbformat": 4,
 "nbformat_minor": 1
}
